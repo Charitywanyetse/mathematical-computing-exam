{
 "cells": [
  {
   "cell_type": "markdown",
   "id": "bf4b7943-1a3c-430e-9e47-3d6ff6e08820",
   "metadata": {},
   "source": [
    "## question five"
   ]
  },
  {
   "cell_type": "code",
   "execution_count": 1,
   "id": "033a2900-18ec-40b8-bcf1-e247dd9c39ef",
   "metadata": {},
   "outputs": [],
   "source": [
    "import numpy as np"
   ]
  },
  {
   "cell_type": "code",
   "execution_count": 3,
   "id": "bfbf794e-ac1d-4106-b12c-fd79c58c6b8e",
   "metadata": {},
   "outputs": [
    {
     "name": "stdout",
     "output_type": "stream",
     "text": [
      "[[1.  0.2 0.5]\n",
      " [0.2 1.  0.8]\n",
      " [0.5 0.8 1. ]]\n"
     ]
    }
   ],
   "source": [
    "matrix_A = np.array([[1,0.2,0.5],[0.2,1,0.8],[0.5,0.8,1]])\n",
    "print(matrix_A)"
   ]
  },
  {
   "cell_type": "markdown",
   "id": "95a4373b-e470-4df1-b916-40aea1991f8c",
   "metadata": {},
   "source": [
    "#### (i) compute an inversion of the matrix(Transpose)"
   ]
  },
  {
   "cell_type": "code",
   "execution_count": 105,
   "id": "80f3158f-d294-4639-852b-e3befbfead14",
   "metadata": {},
   "outputs": [
    {
     "name": "stdout",
     "output_type": "stream",
     "text": [
      "[[ 1.56521739  0.86956522 -1.47826087]\n",
      " [ 0.86956522  3.26086957 -3.04347826]\n",
      " [-1.47826087 -3.04347826  4.17391304]]\n"
     ]
    }
   ],
   "source": [
    "matrix_A = np.array([[1,0.2,0.5],[0.2,1,0.8],[0.5,0.8,1]]) # we use inv when getting the inverssion of the matrix\n",
    "matrix_inv = np.linalg.inv(matrix_A)\n",
    "print(matrix_inv)"
   ]
  },
  {
   "cell_type": "markdown",
   "id": "e606a823-43fa-4257-b676-2468716a1d1d",
   "metadata": {},
   "source": [
    "### (ii) compute the (determinant) of the matrix if possible"
   ]
  },
  {
   "cell_type": "code",
   "execution_count": 23,
   "id": "9831baed-f9ea-4eb9-8cfb-75b264620424",
   "metadata": {},
   "outputs": [
    {
     "name": "stdout",
     "output_type": "stream",
     "text": [
      "0.2299999999999999\n"
     ]
    }
   ],
   "source": [
    "matrix_A = np.array([[1,0.2,0.5],[0.2,1,0.8],[0.5,0.8,1]]) # to get the dterminant of the matrix,we use linalg.det\n",
    "determinant = np.linalg.det(matrix_A)\n",
    "print(determinant)"
   ]
  },
  {
   "cell_type": "markdown",
   "id": "da1bc6dd-e467-4ab4-89ea-7946d1e75bb2",
   "metadata": {},
   "source": [
    "### (iii) Decompose the matrix"
   ]
  },
  {
   "cell_type": "code",
   "execution_count": 93,
   "id": "54aa7c39-0844-47a6-a89b-1001b47c7c84",
   "metadata": {},
   "outputs": [],
   "source": [
    "import numpy as np"
   ]
  },
  {
   "cell_type": "code",
   "execution_count": 107,
   "id": "43118a91-05bc-4516-a2b5-a0a775f2907c",
   "metadata": {
    "scrolled": true
   },
   "outputs": [
    {
     "name": "stdout",
     "output_type": "stream",
     "text": [
      "[[1.         0.         0.        ]\n",
      " [0.2        0.9797959  0.        ]\n",
      " [0.5        0.71443451 0.48947251]]\n"
     ]
    }
   ],
   "source": [
    "matrix_A = np.array([[1,0.2,0.5],[0.2,1,0.8],[0.5,0.8,1]])\n",
    "L = np.linalg.cholesky(matrix_A)\n",
    "print(L) # WHEN WE ARE DECOMPOSING THE MATRIX WE USE FORMULAR \"np.linalg.cholesky."
   ]
  },
  {
   "cell_type": "markdown",
   "id": "f1b5e199-dc2d-4bbe-a86d-2a9822bd3a52",
   "metadata": {},
   "source": [
    "### (iv) Transform the matrix"
   ]
  },
  {
   "cell_type": "code",
   "execution_count": 29,
   "id": "97735c4a-9a4a-435b-8206-5d524421207b",
   "metadata": {},
   "outputs": [
    {
     "name": "stdout",
     "output_type": "stream",
     "text": [
      "[[1.  0.2 0.5]\n",
      " [0.2 1.  0.8]\n",
      " [0.5 0.8 1. ]]\n"
     ]
    }
   ],
   "source": [
    "matrix_A = np.array([[1,0.2,0.5],[0.2,1,0.8],[0.5,0.8,1]])\n",
    "transform = np.transpose(matrix_A)\n",
    "print(transform)"
   ]
  },
  {
   "cell_type": "markdown",
   "id": "06620253-44f3-41db-b99b-75e6cedc06ea",
   "metadata": {},
   "source": [
    "## question six"
   ]
  },
  {
   "cell_type": "code",
   "execution_count": 38,
   "id": "7c89d7ff-f5dc-4b2d-bee1-4eb8d38a74f6",
   "metadata": {},
   "outputs": [],
   "source": [
    "from numpy import random"
   ]
  },
  {
   "cell_type": "code",
   "execution_count": 43,
   "id": "5dae3b6e-aadd-4582-b9a4-112471e689dd",
   "metadata": {},
   "outputs": [],
   "source": [
    "import matplotlib.pyplot as plt"
   ]
  },
  {
   "cell_type": "code",
   "execution_count": 45,
   "id": "bc801223-53a7-471d-bca4-dda300af5e63",
   "metadata": {},
   "outputs": [],
   "source": [
    "import seaborn as sns"
   ]
  },
  {
   "cell_type": "markdown",
   "id": "11e105a8-d801-42d5-bb91-68c673451cb0",
   "metadata": {},
   "source": [
    "### (i) generate 1000 random samples from this poisson distribution using python"
   ]
  },
  {
   "cell_type": "code",
   "execution_count": 54,
   "id": "4c5d9739-46a9-4916-b259-f49cdb040d30",
   "metadata": {},
   "outputs": [],
   "source": [
    "from numpy import random"
   ]
  },
  {
   "cell_type": "code",
   "execution_count": 77,
   "id": "cf6c38d3-07a3-48f9-bab6-3a5e958a7c4a",
   "metadata": {},
   "outputs": [
    {
     "name": "stdout",
     "output_type": "stream",
     "text": [
      "[ 8  4  5  8  7  4  8  7  7  4  6  6  6  4  4  7  5  1  0  7  7  7 10  4\n",
      "  7  9  7  4  4  4  8  7  4  6  8 11  6  3  8  4  2  4  9  3  2  7  3  6\n",
      "  2  6  4 10  9  5  6  5  4  6  6  2  3  3  6  6  3  3  8  4  3  5  8  3\n",
      "  2  8  7  3  1  6  8  8  6  7  4  5  3  1  5  2  3  6  6  2  6  2  2  9\n",
      "  6  4  6  4  5  5 10  6  7 10  6  4  6  4  5  6  9  4 10  5  3  4 10  6\n",
      "  1  9  4  4  9  5  9  9  5  4  3  3  9  4  5  4  7  1  5  8  4  7  5  6\n",
      "  5  3  7  4  6  8  6  5  7  5  7  2  4  7  6  2  4  2  4  7  4  7  3  4\n",
      "  6  3  2  2  6  7  6  9  4  7  6  6 12  6  2  3  5  7  3  8  6  4  4  8\n",
      "  5  6  3  5  4  5  9 10 10  8  9  4  4  4  5  3  4  5  5  6  4  6  7  5\n",
      "  3  5  7  5  4  8  4  2  7  7  9  4  3  5  3  5  5  6  1 11  6  4  3  3\n",
      "  5  6  9  5  6  5  1  3  5  5  5  5  5  6  6  7  6  4  3  4  5  3  8  6\n",
      "  2  1  5  2  3  8  7  6  2  9  5  8  9  5  6  4  2  3 10  7  6  4  5  8\n",
      "  4  1  3  7  9  6  4  5 11  4  1  6  1  4  4  3  6  9  6  6  4  3  7  6\n",
      "  4  4  4  5  8  4  6  5  3  5  5  7 14  8  8  3  2  3  5  6  4  3  3  7\n",
      "  9  4  5  3  8  6  6  2  7  6  4  5  7  9 10  6  7  3  7  9  6  5  6  4\n",
      "  6  2  6  3  9  7  5  3  7 12  5  8  6  4 15  8  8  3  2  9  4  6  4  2\n",
      "  5  4  3  5  4  5  8  4  5  3  4  4  3  5  0  3  2  4  2  2  2  9  6  4\n",
      "  4  7  8  5  6  4  4  7  2  2  4  5  7  5  4  4  6  4  5  3  7  2  7  7\n",
      "  4  8  3  8  8  6  5  6  5  6  3  5  6  7  3  7  7  5  3  6  5  7  5  2\n",
      "  5  6  3  3  7  2  4  3  3  2  5  4  5  5  4  3  3  5  5  6  7  3  8  6\n",
      "  3  4  6  9  4  7  7  6  2  0  4  6  8  1  0  3  6  3  6  9  2  5  3  5\n",
      "  3  6  9  4  7 10  7 10  7  6  4  6  4  5  4  4  6  3  8  5 10  5  5  2\n",
      "  7  2 10  4  5  5 10  8  8  8  7  6  9  8  5  6  2  5  9  6  9  2  3  4\n",
      "  4  7  7  5  6  6  6  8  4  3  6  8  2  7  5  7  5  3  4  7  2  2  4  5\n",
      "  4 11  4  6  3  7  5  2  2  9  4  5  7  6  7  5  3  4  3  6  2  6  5  1\n",
      "  3  8  8  9  2  4  5 13  5 11  8  6  6  9  2  3  8  4  2  4  5  8  7  5\n",
      "  3  4  7  7  5  6  5  5  1  4  2  9  7  3  4  5  1  7  4  5  4  3  5  6\n",
      "  7  3  8  4  4  8  8  5  4  4  7  6  7  5  2  4  5  5  7 12  8  3  3  6\n",
      "  5  3  3  4  4  3  5  5  6 11  7  7  7  6  4  5  4  5  7  6  7  3  9  3\n",
      "  6  2  6  1  6  4  5  5  3  5  6  4  6  5  5  7  6  3  4  2  4  7  2  6\n",
      "  4  7  2  3  6  5  6  3  6  6  4  5  7  7  6  5  3  3 10 13  5  5 10  3\n",
      "  5  7  7  8  5  8  5  6  8  1  4  4 11  2  7  2  6  3  7  5  4  8  9  4\n",
      "  2  3  5  5  4  6  8 10  7  7  7  5  4  7  5  3 12  5  2  3  5  3  7  5\n",
      "  3  3  8  3  3  6  6  3  3  4  9  6  5  3  6  3  4  7  7  6 13  4  5  5\n",
      "  4  4  3  7  5  4  2  5  4  2  7  8  3  2  2  2  2  2  2  6  4  3  6  5\n",
      "  2  6  4  3  8  4  4  4  5  7  6  3  4  6  6  9 10  8  5  3  8  2  4  3\n",
      "  4  2  7  2  4  5  5 12  1  4  3  6  4  2  4  3  4 12  3  3  7  9  4  7\n",
      "  2  5  7  5  2  6  9  4  6  5  7  3  4  4  6  4  1  6  3  5  4  4  2  2\n",
      "  3  3  4  1  4  5  4  4  6  4  4  6  4  5  3  6  3  7  8  2  1  8  4  6\n",
      "  8  7  2  6  3  6  4  3  8  3  7  5  5  3  5  4  3  7  4  4  3  4  3  2\n",
      "  2  4  3  6  3  7  6  3  3  4  4  6  4  7  4  5  1  3  2 10  4  5  4  6\n",
      "  6  6  6  6  6  4  7  4  9  4  5  7  8  1  5  6]\n"
     ]
    }
   ],
   "source": [
    "x = random.poisson(lam = 5 ,size = 1000)\n",
    "print(x)"
   ]
  },
  {
   "cell_type": "markdown",
   "id": "1bc23806-eaee-4470-b6ab-2f45cb9d9ace",
   "metadata": {},
   "source": [
    "### (ii) calculate and print the mean and variance of the generated samples"
   ]
  },
  {
   "cell_type": "markdown",
   "id": "23c31a00-f781-417d-8751-ed82acd7d99e",
   "metadata": {},
   "source": [
    "### mean"
   ]
  },
  {
   "cell_type": "code",
   "execution_count": 87,
   "id": "a6b785a4-5f65-4a36-8977-8f8252a31d2f",
   "metadata": {},
   "outputs": [
    {
     "name": "stdout",
     "output_type": "stream",
     "text": [
      "5.166\n"
     ]
    }
   ],
   "source": [
    "x_mean = np.mean(x)\n",
    "print(x_mean)"
   ]
  },
  {
   "cell_type": "markdown",
   "id": "79ccb106-4d10-4380-a4a8-2f2487c37007",
   "metadata": {},
   "source": [
    "### variance"
   ]
  },
  {
   "cell_type": "code",
   "execution_count": 103,
   "id": "6b0104af-7ab6-44e5-95ca-c5999993e5d9",
   "metadata": {},
   "outputs": [
    {
     "name": "stdout",
     "output_type": "stream",
     "text": [
      "5.200443999999999\n"
     ]
    }
   ],
   "source": [
    "x_var = np.var(x)\n",
    "print(x_var)"
   ]
  },
  {
   "cell_type": "markdown",
   "id": "27abb040-5e4d-4268-8069-4446d55418f1",
   "metadata": {},
   "source": [
    "### (iii) plot a histogram of the samples to visualize the distribution"
   ]
  },
  {
   "cell_type": "code",
   "execution_count": 109,
   "id": "0197f904-97ef-4acb-a027-9eabb1da0935",
   "metadata": {},
   "outputs": [
    {
     "data": {
      "image/png": "[encoded data removed]",
      "text/plain": [
       "<Figure size 640x480 with 1 Axes>"
      ]
     },
     "metadata": {},
     "output_type": "display_data"
    }
   ],
   "source": [
    "poisson_data = random.poisson(lam =5 ,size =1000 )\n",
    "sns.histplot(poisson_data,bins=5,kde = False,color = \"pink\")\n",
    "\n",
    "plt.xlabel(\"Average\")\n",
    "plt.ylabel(\"effeciency\")\n",
    "plt.show()"
   ]
  },
  {
   "cell_type": "code",
   "execution_count": null,
   "id": "86a0cae9-bd32-452e-8273-403aad875421",
   "metadata": {},
   "outputs": [],
   "source": []
  }
 ],
 "metadata": {
  "kernelspec": {
   "display_name": "Python 3 (ipykernel)",
   "language": "python",
   "name": "python3"
  },
  "language_info": {
   "codemirror_mode": {
    "name": "ipython",
    "version": 3
   },
   "file_extension": ".py",
   "mimetype": "text/x-python",
   "name": "python",
   "nbconvert_exporter": "python",
   "pygments_lexer": "ipython3",
   "version": "3.12.7"
  }
 },
 "nbformat": 4,
 "nbformat_minor": 5
}
